{
 "cells": [
  {
   "cell_type": "markdown",
   "metadata": {},
   "source": [
    "# What Test to Use"
   ]
  },
  {
   "cell_type": "markdown",
   "metadata": {},
   "source": [
    "In this dataset, the same participants answered questions in 2012 and again 2014.\n",
    "\n",
    "1. Did people become less trusting from 2012 to 2014? Compute results for each country in the sample.\n",
    "2. Did people become happier from 2012 to 2014? Compute results for each country in the sample.\n",
    "3. Who reported watching more TV in 2012, men or women?\n",
    "4. Who was more likely to believe people were fair in 2012, people living with a partner or people living alone?\n",
    "5. Pick three or four of the countries in the sample and compare how often people met socially in 2014. Are there differences, and if so, which countries stand out?\n",
    "6. Pick three or four of the countries in the sample and compare how often people took part in social activities, relative to others their age, in 2014. Are there differences, and if so, which countries stand out?"
   ]
  },
  {
   "cell_type": "code",
   "execution_count": 1,
   "metadata": {},
   "outputs": [],
   "source": [
    "import pandas as pd\n",
    "import numpy as np\n",
    "import matplotlib.pyplot as plt\n",
    "import seaborn as sns\n",
    "import scipy.stats as stats\n",
    "%matplotlib inline"
   ]
  },
  {
   "cell_type": "code",
   "execution_count": 3,
   "metadata": {},
   "outputs": [],
   "source": [
    "df = pd.read_csv('ESSdata_Thinkful.csv')"
   ]
  },
  {
   "cell_type": "code",
   "execution_count": 7,
   "metadata": {},
   "outputs": [
    {
     "data": {
      "text/plain": [
       "ES    2426\n",
       "SE    1816\n",
       "CH    1546\n",
       "NO    1462\n",
       "CZ    1316\n",
       "DE      28\n",
       "Name: cntry, dtype: int64"
      ]
     },
     "execution_count": 7,
     "metadata": {},
     "output_type": "execute_result"
    }
   ],
   "source": [
    "df.cntry.value_counts()"
   ]
  },
  {
   "cell_type": "code",
   "execution_count": 4,
   "metadata": {},
   "outputs": [],
   "source": [
    "countries = df.cntry.unique().tolist()"
   ]
  },
  {
   "cell_type": "code",
   "execution_count": 5,
   "metadata": {},
   "outputs": [
    {
     "data": {
      "text/html": [
       "<div>\n",
       "<style scoped>\n",
       "    .dataframe tbody tr th:only-of-type {\n",
       "        vertical-align: middle;\n",
       "    }\n",
       "\n",
       "    .dataframe tbody tr th {\n",
       "        vertical-align: top;\n",
       "    }\n",
       "\n",
       "    .dataframe thead th {\n",
       "        text-align: right;\n",
       "    }\n",
       "</style>\n",
       "<table border=\"1\" class=\"dataframe\">\n",
       "  <thead>\n",
       "    <tr style=\"text-align: right;\">\n",
       "      <th></th>\n",
       "      <th>cntry</th>\n",
       "      <th>idno</th>\n",
       "      <th>year</th>\n",
       "      <th>tvtot</th>\n",
       "      <th>ppltrst</th>\n",
       "      <th>pplfair</th>\n",
       "      <th>pplhlp</th>\n",
       "      <th>happy</th>\n",
       "      <th>sclmeet</th>\n",
       "      <th>sclact</th>\n",
       "      <th>gndr</th>\n",
       "      <th>agea</th>\n",
       "      <th>partner</th>\n",
       "    </tr>\n",
       "  </thead>\n",
       "  <tbody>\n",
       "    <tr>\n",
       "      <th>0</th>\n",
       "      <td>CH</td>\n",
       "      <td>5.0</td>\n",
       "      <td>6</td>\n",
       "      <td>3.0</td>\n",
       "      <td>3.0</td>\n",
       "      <td>10.0</td>\n",
       "      <td>5.0</td>\n",
       "      <td>8.0</td>\n",
       "      <td>5.0</td>\n",
       "      <td>4.0</td>\n",
       "      <td>2.0</td>\n",
       "      <td>60.0</td>\n",
       "      <td>1.0</td>\n",
       "    </tr>\n",
       "    <tr>\n",
       "      <th>1</th>\n",
       "      <td>CH</td>\n",
       "      <td>25.0</td>\n",
       "      <td>6</td>\n",
       "      <td>6.0</td>\n",
       "      <td>5.0</td>\n",
       "      <td>7.0</td>\n",
       "      <td>5.0</td>\n",
       "      <td>9.0</td>\n",
       "      <td>3.0</td>\n",
       "      <td>2.0</td>\n",
       "      <td>2.0</td>\n",
       "      <td>59.0</td>\n",
       "      <td>1.0</td>\n",
       "    </tr>\n",
       "    <tr>\n",
       "      <th>2</th>\n",
       "      <td>CH</td>\n",
       "      <td>26.0</td>\n",
       "      <td>6</td>\n",
       "      <td>1.0</td>\n",
       "      <td>8.0</td>\n",
       "      <td>8.0</td>\n",
       "      <td>8.0</td>\n",
       "      <td>7.0</td>\n",
       "      <td>6.0</td>\n",
       "      <td>3.0</td>\n",
       "      <td>1.0</td>\n",
       "      <td>24.0</td>\n",
       "      <td>2.0</td>\n",
       "    </tr>\n",
       "    <tr>\n",
       "      <th>3</th>\n",
       "      <td>CH</td>\n",
       "      <td>28.0</td>\n",
       "      <td>6</td>\n",
       "      <td>4.0</td>\n",
       "      <td>6.0</td>\n",
       "      <td>6.0</td>\n",
       "      <td>7.0</td>\n",
       "      <td>10.0</td>\n",
       "      <td>6.0</td>\n",
       "      <td>2.0</td>\n",
       "      <td>2.0</td>\n",
       "      <td>64.0</td>\n",
       "      <td>1.0</td>\n",
       "    </tr>\n",
       "    <tr>\n",
       "      <th>4</th>\n",
       "      <td>CH</td>\n",
       "      <td>29.0</td>\n",
       "      <td>6</td>\n",
       "      <td>5.0</td>\n",
       "      <td>6.0</td>\n",
       "      <td>7.0</td>\n",
       "      <td>5.0</td>\n",
       "      <td>8.0</td>\n",
       "      <td>7.0</td>\n",
       "      <td>2.0</td>\n",
       "      <td>2.0</td>\n",
       "      <td>55.0</td>\n",
       "      <td>1.0</td>\n",
       "    </tr>\n",
       "  </tbody>\n",
       "</table>\n",
       "</div>"
      ],
      "text/plain": [
       "  cntry  idno  year  tvtot  ppltrst  pplfair  pplhlp  happy  sclmeet  sclact  \\\n",
       "0    CH   5.0     6    3.0      3.0     10.0     5.0    8.0      5.0     4.0   \n",
       "1    CH  25.0     6    6.0      5.0      7.0     5.0    9.0      3.0     2.0   \n",
       "2    CH  26.0     6    1.0      8.0      8.0     8.0    7.0      6.0     3.0   \n",
       "3    CH  28.0     6    4.0      6.0      6.0     7.0   10.0      6.0     2.0   \n",
       "4    CH  29.0     6    5.0      6.0      7.0     5.0    8.0      7.0     2.0   \n",
       "\n",
       "   gndr  agea  partner  \n",
       "0   2.0  60.0      1.0  \n",
       "1   2.0  59.0      1.0  \n",
       "2   1.0  24.0      2.0  \n",
       "3   2.0  64.0      1.0  \n",
       "4   2.0  55.0      1.0  "
      ]
     },
     "execution_count": 5,
     "metadata": {},
     "output_type": "execute_result"
    }
   ],
   "source": [
    "df.head()"
   ]
  },
  {
   "cell_type": "markdown",
   "metadata": {},
   "source": [
    "## 1.0 Did people become less trusting from 2012 to 2014? Compute results for each country in the sample."
   ]
  },
  {
   "cell_type": "markdown",
   "metadata": {},
   "source": [
    "A: A/B test because it can be a before and after (2012 to 2014)"
   ]
  },
  {
   "cell_type": "code",
   "execution_count": 14,
   "metadata": {},
   "outputs": [
    {
     "data": {
      "image/png": "[encoded data removed]",
      "text/plain": [
       "<Figure size 432x216 with 2 Axes>"
      ]
     },
     "metadata": {
      "needs_background": "light"
     },
     "output_type": "display_data"
    },
    {
     "data": {
      "image/png": "[encoded data removed]",
      "text/plain": [
       "<Figure size 432x216 with 2 Axes>"
      ]
     },
     "metadata": {
      "needs_background": "light"
     },
     "output_type": "display_data"
    },
    {
     "data": {
      "image/png": "[encoded data removed]",
      "text/plain": [
       "<Figure size 432x216 with 2 Axes>"
      ]
     },
     "metadata": {
      "needs_background": "light"
     },
     "output_type": "display_data"
    },
    {
     "data": {
      "image/png": "[encoded data removed]",
      "text/plain": [
       "<Figure size 432x216 with 2 Axes>"
      ]
     },
     "metadata": {
      "needs_background": "light"
     },
     "output_type": "display_data"
    },
    {
     "data": {
      "image/png": "[encoded data removed]",
      "text/plain": [
       "<Figure size 432x216 with 2 Axes>"
      ]
     },
     "metadata": {
      "needs_background": "light"
     },
     "output_type": "display_data"
    },
    {
     "data": {
      "image/png": "[encoded data removed]",
      "text/plain": [
       "<Figure size 432x216 with 2 Axes>"
      ]
     },
     "metadata": {
      "needs_background": "light"
     },
     "output_type": "display_data"
    }
   ],
   "source": [
    "for country in countries:\n",
    "    fig, ax = plt.subplots(1,2,figsize = (6,3))\n",
    "    ax[0].hist(df['ppltrst'][(df['cntry'] == country) & (df['year']==6)].dropna())\n",
    "    ax[1].hist(df['ppltrst'][(df['cntry'] == country) & (df['year']==7)].dropna())\n",
    "    ax[0].set_title('2012')\n",
    "    ax[1].set_title('2014')\n",
    "    fig.text(0.5, 0, country)\n",
    "    plt.show()"
   ]
  },
  {
   "cell_type": "code",
   "execution_count": 21,
   "metadata": {},
   "outputs": [
    {
     "name": "stdout",
     "output_type": "stream",
     "text": [
      "\n",
      "CH\n",
      "2012 mean: 5.68\n",
      "2014 mean: 5.75\n",
      "Ttest_relResult(statistic=-0.6586851756725737, pvalue=0.5102943511301135)\n",
      "\n",
      "CZ\n",
      "2012 mean: 4.36\n",
      "2014 mean: 4.42\n",
      "Ttest_relResult(statistic=-0.5001638336887216, pvalue=0.617129268240474)\n",
      "\n",
      "DE\n",
      "2012 mean: 5.21\n",
      "2014 mean: 5.36\n",
      "Ttest_relResult(statistic=-0.18399501804849683, pvalue=0.8568563797095805)\n",
      "\n",
      "ES\n",
      "2012 mean: 5.11\n",
      "2014 mean: 4.90\n",
      "Ttest_relResult(statistic=2.4561906976601646, pvalue=0.014181580725320284)\n",
      "\n",
      "NO\n",
      "2012 mean: 6.65\n",
      "2014 mean: 6.60\n",
      "Ttest_relResult(statistic=0.5073077081124404, pvalue=0.61209257015177)\n",
      "\n",
      "SE\n",
      "2012 mean: 6.06\n",
      "2014 mean: 6.26\n",
      "Ttest_relResult(statistic=-2.0671082026033982, pvalue=0.03900781670958545)\n"
     ]
    }
   ],
   "source": [
    "for country in countries:\n",
    "    print(\"\\n\" + country)\n",
    "    print('2012 mean: {0:.2f}'.format(df['ppltrst'][(df['cntry'] == country) & (df['year']==6)].mean()))\n",
    "    print('2014 mean: {0:.2f}'.format(df['ppltrst'][(df['cntry'] == country) & (df['year']==7)].mean()))\n",
    "    print(stats.ttest_rel(df['ppltrst'][(df['cntry'] == country) & (df['year']==6)], \n",
    "                          df['ppltrst'][(df['cntry'] == country) & (df['year']==7)],\n",
    "                          nan_policy='omit'\n",
    "                         ))"
   ]
  },
  {
   "cell_type": "markdown",
   "metadata": {},
   "source": [
    "A significant p-value is < 0.05. With the parametric t-test only Spain (ES) and Sweden (SE) showed significant differences in trust data from 2012 to 2014. Spain showed a decreased in trust and Sweden showed an increase in trust"
   ]
  },
  {
   "cell_type": "code",
   "execution_count": 23,
   "metadata": {},
   "outputs": [
    {
     "name": "stdout",
     "output_type": "stream",
     "text": [
      "\n",
      "CH\n",
      "2012 mean: 5.68\n",
      "2014 mean: 5.75\n",
      "WilcoxonResult(statistic=106278.5, pvalue=0.4411286510952477)\n",
      "\n",
      "CZ\n",
      "2012 mean: 4.36\n",
      "2014 mean: 4.42\n",
      "WilcoxonResult(statistic=82837.0, pvalue=0.2931891426327379)\n",
      "\n",
      "DE\n",
      "2012 mean: 5.21\n",
      "2014 mean: 5.36\n",
      "WilcoxonResult(statistic=44.0, pvalue=0.9157134600899863)\n",
      "\n",
      "ES\n",
      "2012 mean: 5.11\n",
      "2014 mean: 4.90\n",
      "WilcoxonResult(statistic=243475.5, pvalue=0.005570829650439684)\n",
      "\n",
      "NO\n",
      "2012 mean: 6.65\n",
      "2014 mean: 6.60\n",
      "WilcoxonResult(statistic=85392.0, pvalue=0.6139175669970661)\n",
      "\n",
      "SE\n",
      "2012 mean: 6.06\n",
      "2014 mean: 6.26\n",
      "WilcoxonResult(statistic=130719.5, pvalue=0.028545290985536906)\n"
     ]
    },
    {
     "name": "stderr",
     "output_type": "stream",
     "text": [
      "/Library/Frameworks/Python.framework/Versions/3.7/lib/python3.7/site-packages/scipy/stats/morestats.py:2781: RuntimeWarning: invalid value encountered in greater\n",
      "  r_plus = np.sum((d > 0) * r, axis=0)\n",
      "/Library/Frameworks/Python.framework/Versions/3.7/lib/python3.7/site-packages/scipy/stats/morestats.py:2782: RuntimeWarning: invalid value encountered in less\n",
      "  r_minus = np.sum((d < 0) * r, axis=0)\n"
     ]
    }
   ],
   "source": [
    "#non-parametric\n",
    "for country in countries:\n",
    "    print(\"\\n\" + country)\n",
    "    print('2012 mean: {0:.2f}'.format(df['ppltrst'][(df['cntry'] == country) & (df['year']==6)].mean()))\n",
    "    print('2014 mean: {0:.2f}'.format(df['ppltrst'][(df['cntry'] == country) & (df['year']==7)].mean()))\n",
    "    print(stats.wilcoxon(df['ppltrst'][(df['cntry'] == country) & (df['year']==6)], \n",
    "                          df['ppltrst'][(df['cntry'] == country) & (df['year']==7)],\n",
    "                         zero_method = 'wilcox'\n",
    "                         ))"
   ]
  },
  {
   "cell_type": "markdown",
   "metadata": {},
   "source": [
    "While p-values changes with the parametric text, still only Spain and Sweden had significant results"
   ]
  },
  {
   "cell_type": "markdown",
   "metadata": {},
   "source": [
    "## 2.0 Did people become happier from 2012 to 2014? Compute results for each country in the sample."
   ]
  },
  {
   "cell_type": "markdown",
   "metadata": {},
   "source": [
    "This is another before/after mean comparison A/B test"
   ]
  },
  {
   "cell_type": "code",
   "execution_count": 25,
   "metadata": {},
   "outputs": [
    {
     "data": {
      "image/png": "[encoded data removed]",
      "text/plain": [
       "<Figure size 432x216 with 2 Axes>"
      ]
     },
     "metadata": {
      "needs_background": "light"
     },
     "output_type": "display_data"
    },
    {
     "data": {
      "image/png": "[encoded data removed]",
      "text/plain": [
       "<Figure size 432x216 with 2 Axes>"
      ]
     },
     "metadata": {
      "needs_background": "light"
     },
     "output_type": "display_data"
    },
    {
     "data": {
      "image/png": "[encoded data removed]",
      "text/plain": [
       "<Figure size 432x216 with 2 Axes>"
      ]
     },
     "metadata": {
      "needs_background": "light"
     },
     "output_type": "display_data"
    },
    {
     "data": {
      "image/png": "[encoded data removed]",
      "text/plain": [
       "<Figure size 432x216 with 2 Axes>"
      ]
     },
     "metadata": {
      "needs_background": "light"
     },
     "output_type": "display_data"
    },
    {
     "data": {
      "image/png": "[encoded data removed]",
      "text/plain": [
       "<Figure size 432x216 with 2 Axes>"
      ]
     },
     "metadata": {
      "needs_background": "light"
     },
     "output_type": "display_data"
    },
    {
     "data": {
      "image/png": "[encoded data removed]",
      "text/plain": [
       "<Figure size 432x216 with 2 Axes>"
      ]
     },
     "metadata": {
      "needs_background": "light"
     },
     "output_type": "display_data"
    }
   ],
   "source": [
    "for country in countries:\n",
    "    fig, ax = plt.subplots(1,2,figsize = (6,3))\n",
    "    ax[0].hist(df['happy'][(df['cntry'] == country) & (df['year']==6)].dropna())\n",
    "    ax[1].hist(df['happy'][(df['cntry'] == country) & (df['year']==7)].dropna())\n",
    "    ax[0].set_title('2012')\n",
    "    ax[1].set_title('2014')\n",
    "    fig.text(0.5, 0, country)\n",
    "    plt.show()"
   ]
  },
  {
   "cell_type": "markdown",
   "metadata": {},
   "source": [
    "Values are all skewed to the right, so we should use a non-parametric method"
   ]
  },
  {
   "cell_type": "code",
   "execution_count": 26,
   "metadata": {},
   "outputs": [
    {
     "name": "stdout",
     "output_type": "stream",
     "text": [
      "\n",
      "CH\n",
      "2012 mean: 8.09\n",
      "2014 mean: 8.12\n",
      "WilcoxonResult(statistic=106278.5, pvalue=0.4411286510952477)\n",
      "\n",
      "CZ\n",
      "2012 mean: 6.77\n",
      "2014 mean: 6.91\n",
      "WilcoxonResult(statistic=82837.0, pvalue=0.2931891426327379)\n",
      "\n",
      "DE\n",
      "2012 mean: 7.43\n",
      "2014 mean: 7.86\n",
      "WilcoxonResult(statistic=44.0, pvalue=0.9157134600899863)\n",
      "\n",
      "ES\n",
      "2012 mean: 7.55\n",
      "2014 mean: 7.42\n",
      "WilcoxonResult(statistic=243475.5, pvalue=0.005570829650439684)\n",
      "\n",
      "NO\n",
      "2012 mean: 8.25\n",
      "2014 mean: 7.92\n",
      "WilcoxonResult(statistic=85392.0, pvalue=0.6139175669970661)\n",
      "\n",
      "SE\n",
      "2012 mean: 7.91\n",
      "2014 mean: 7.95\n",
      "WilcoxonResult(statistic=130719.5, pvalue=0.028545290985536906)\n"
     ]
    }
   ],
   "source": [
    "for country in countries:\n",
    "    print(\"\\n\" + country)\n",
    "    print('2012 mean: {0:.2f}'.format(df['happy'][(df['cntry'] == country) & (df['year']==6)].mean()))\n",
    "    print('2014 mean: {0:.2f}'.format(df['happy'][(df['cntry'] == country) & (df['year']==7)].mean()))\n",
    "    print(stats.wilcoxon(df['ppltrst'][(df['cntry'] == country) & (df['year']==6)], \n",
    "                          df['ppltrst'][(df['cntry'] == country) & (df['year']==7)],\n",
    "                         zero_method = 'wilcox'\n",
    "                         ))"
   ]
  },
  {
   "cell_type": "markdown",
   "metadata": {},
   "source": [
    "Once again, Sweden and Spain are the only ones with significant results. In Sweden, happiness increased and in Spain happiness decreased"
   ]
  },
  {
   "cell_type": "markdown",
   "metadata": {},
   "source": [
    "## 3.0 Who reported watching more TV in 2012, men or women?"
   ]
  },
  {
   "cell_type": "markdown",
   "metadata": {},
   "source": [
    "Unpaired t-test since it is not a before/after"
   ]
  },
  {
   "cell_type": "code",
   "execution_count": 30,
   "metadata": {},
   "outputs": [],
   "source": [
    "male = df['tvtot'][(df['gndr']==1.0) & (df['year']==6)]\n",
    "female = df['tvtot'][(df['gndr']==2.0) & (df['year']==6)]"
   ]
  },
  {
   "cell_type": "code",
   "execution_count": 37,
   "metadata": {},
   "outputs": [
    {
     "data": {
      "image/png": "[encoded data removed]",
      "text/plain": [
       "<Figure size 432x216 with 2 Axes>"
      ]
     },
     "metadata": {
      "needs_background": "light"
     },
     "output_type": "display_data"
    }
   ],
   "source": [
    "fig, ax = plt.subplots(1, 2, figsize=(6, 3))\n",
    "ax[0].hist(male.dropna())\n",
    "ax[1].hist(female.dropna())\n",
    "fig.text(0.5, 0, '2012 TV Total')\n",
    "ax[0].set_title('Male')\n",
    "ax[1].set_title('Female')  \n",
    "plt.show()"
   ]
  },
  {
   "cell_type": "code",
   "execution_count": 32,
   "metadata": {},
   "outputs": [
    {
     "name": "stdout",
     "output_type": "stream",
     "text": [
      "Male mean: 3.90\n",
      "Female mean: 3.94\n",
      "Ttest_indResult(statistic=-0.6899928109209502, pvalue=0.49023604027095813)\n"
     ]
    }
   ],
   "source": [
    "print('Male mean: {0:.2f}'.format(male.mean()))\n",
    "print('Female mean: {0:.2f}'.format(female.mean()))  \n",
    "print(stats.ttest_ind(male, \n",
    "                    female,\n",
    "                    nan_policy='omit'\n",
    "                    ))"
   ]
  },
  {
   "cell_type": "markdown",
   "metadata": {},
   "source": [
    "The means are very similar for tv time and there is no significant different between the values"
   ]
  },
  {
   "cell_type": "markdown",
   "metadata": {},
   "source": [
    "## 4.0 Who was more likely to believe people were fair in 2012, people living with a partner or people living alone?"
   ]
  },
  {
   "cell_type": "markdown",
   "metadata": {},
   "source": [
    "Unpaired t-test since it is not a before/after"
   ]
  },
  {
   "cell_type": "code",
   "execution_count": 42,
   "metadata": {},
   "outputs": [],
   "source": [
    "single = df['pplfair'][(df['partner']==2.0) & (df['year']==6)]\n",
    "partner = df['pplfair'][(df['partner']==1.0) & (df['year']==6)]"
   ]
  },
  {
   "cell_type": "code",
   "execution_count": 43,
   "metadata": {},
   "outputs": [
    {
     "data": {
      "image/png": "[encoded data removed]",
      "text/plain": [
       "<Figure size 432x216 with 2 Axes>"
      ]
     },
     "metadata": {
      "needs_background": "light"
     },
     "output_type": "display_data"
    }
   ],
   "source": [
    "fig, ax = plt.subplots(1, 2, figsize=(6, 3))\n",
    "ax[0].hist(single.dropna())\n",
    "ax[1].hist(partner.dropna())\n",
    "fig.text(0.5, 0, '2012 TV Total')\n",
    "ax[0].set_title('single')\n",
    "ax[1].set_title('partner')  \n",
    "plt.show()"
   ]
  },
  {
   "cell_type": "code",
   "execution_count": 44,
   "metadata": {},
   "outputs": [
    {
     "name": "stdout",
     "output_type": "stream",
     "text": [
      "Lives alone mean: 5.86\n",
      "Lives with partner mean: 6.08\n",
      "Ttest_indResult(statistic=-0.6899928109209502, pvalue=0.49023604027095813)\n"
     ]
    }
   ],
   "source": [
    "print('Lives alone mean: {0:.2f}'.format(single.mean()))\n",
    "print('Lives with partner mean: {0:.2f}'.format(partner.mean()))  \n",
    "print(stats.ttest_ind(male, \n",
    "                    female,\n",
    "                    nan_policy='omit'\n",
    "                    ))"
   ]
  },
  {
   "cell_type": "markdown",
   "metadata": {},
   "source": [
    "Not much of a differnce here, and the p-value is not significant"
   ]
  },
  {
   "cell_type": "markdown",
   "metadata": {},
   "source": [
    "## 5.0 Pick three or four of the countries in the sample and compare how often people met socially in 2014. Are there differences, and if so, which countries stand out?"
   ]
  },
  {
   "cell_type": "markdown",
   "metadata": {},
   "source": [
    "One-way ANOVA because we need to determine if there are any statistically significant differences between the means of two or more independent (unrelated) groups"
   ]
  },
  {
   "cell_type": "code",
   "execution_count": 41,
   "metadata": {},
   "outputs": [
    {
     "name": "stdout",
     "output_type": "stream",
     "text": [
      "['ES', 'NO', 'SE']\n"
     ]
    }
   ],
   "source": [
    "three_countries = countries[3:]\n",
    "print(three_countries)"
   ]
  },
  {
   "cell_type": "code",
   "execution_count": 54,
   "metadata": {},
   "outputs": [],
   "source": [
    "spain_soc = df['sclmeet'][(df['cntry']=='ES') & (df['year']==7)].dropna()\n",
    "sweden_soc = df['sclmeet'][(df['cntry']=='SE') & (df['year']==7)].dropna()\n",
    "norway_soc = df['sclmeet'][(df['cntry']=='NO') & (df['year']==7)].dropna()"
   ]
  },
  {
   "cell_type": "code",
   "execution_count": 60,
   "metadata": {},
   "outputs": [
    {
     "data": {
      "image/png": "[encoded data removed]",
      "text/plain": [
       "<Figure size 432x216 with 3 Axes>"
      ]
     },
     "metadata": {
      "needs_background": "light"
     },
     "output_type": "display_data"
    }
   ],
   "source": [
    "fig, axs = plt.subplots(1, 3, figsize=(6, 3))\n",
    "axs[0].hist(spain_soc)\n",
    "axs[1].hist(sweden_soc)\n",
    "axs[2].hist(norway_soc)\n",
    "\n",
    "fig.text(0.25, 1, '2014 Number of Social Meetups')\n",
    "axs[0].set_title('ES')\n",
    "axs[1].set_title('SE')\n",
    "axs[2].set_title('NO')\n",
    "fig.tight_layout()\n",
    "plt.show()"
   ]
  },
  {
   "cell_type": "code",
   "execution_count": 52,
   "metadata": {},
   "outputs": [
    {
     "name": "stdout",
     "output_type": "stream",
     "text": [
      "4103    7.0\n",
      "4104    2.0\n",
      "4105    7.0\n",
      "4106    7.0\n",
      "4107    7.0\n",
      "4108    3.0\n",
      "4109    6.0\n",
      "4110    6.0\n",
      "4111    7.0\n",
      "4112    6.0\n",
      "4113    6.0\n",
      "4114    6.0\n",
      "4115    4.0\n",
      "4116    5.0\n",
      "4117    6.0\n",
      "4118    6.0\n",
      "4119    5.0\n",
      "4120    6.0\n",
      "4121    7.0\n",
      "4122    5.0\n",
      "4123    5.0\n",
      "4124    6.0\n",
      "4125    7.0\n",
      "4126    5.0\n",
      "4127    7.0\n",
      "4128    4.0\n",
      "4129    5.0\n",
      "4130    6.0\n",
      "4131    4.0\n",
      "4132    4.0\n",
      "       ... \n",
      "5286    5.0\n",
      "5287    6.0\n",
      "5288    5.0\n",
      "5289    5.0\n",
      "5290    5.0\n",
      "5291    6.0\n",
      "5292    4.0\n",
      "5293    5.0\n",
      "5294    4.0\n",
      "5295    5.0\n",
      "5296    6.0\n",
      "5297    5.0\n",
      "5298    4.0\n",
      "5299    4.0\n",
      "5300    4.0\n",
      "5301    4.0\n",
      "5302    6.0\n",
      "5303    5.0\n",
      "5304    4.0\n",
      "5305    2.0\n",
      "5306    6.0\n",
      "5307    6.0\n",
      "5308    6.0\n",
      "5309    7.0\n",
      "5310    4.0\n",
      "5311    5.0\n",
      "5312    6.0\n",
      "5313    7.0\n",
      "5314    6.0\n",
      "5315    5.0\n",
      "Name: sclmeet, Length: 1213, dtype: float64\n"
     ]
    }
   ],
   "source": [
    "print(spain_soc)"
   ]
  },
  {
   "cell_type": "code",
   "execution_count": 58,
   "metadata": {},
   "outputs": [
    {
     "name": "stdout",
     "output_type": "stream",
     "text": [
      "F-stat:  3.726110434690217 \n",
      "p-value: 0.02420388186106648\n"
     ]
    }
   ],
   "source": [
    "F, p = stats.f_oneway(\n",
    "    spain_soc,\n",
    "    sweden_soc,\n",
    "    norway_soc)\n",
    "\n",
    "print(\"F-stat: \",F,'\\np-value:', p)"
   ]
  },
  {
   "cell_type": "markdown",
   "metadata": {},
   "source": [
    "There is a significant difference in social interactions between the countries"
   ]
  },
  {
   "cell_type": "markdown",
   "metadata": {},
   "source": [
    "## 6.0 Pick three or four of the countries in the sample and compare how often people took part in social activities, relative to others their age, in 2014. Are there differences, and if so, which countries stand out?"
   ]
  },
  {
   "cell_type": "markdown",
   "metadata": {},
   "source": [
    "Two-way ANOVA to compare means between two independent variables (age and social interactions)"
   ]
  },
  {
   "cell_type": "code",
   "execution_count": 59,
   "metadata": {},
   "outputs": [],
   "source": [
    "spain_soc_age = df['sclact'][(df['cntry'] == 'ES') & (df['year'] == 7)].dropna()\n",
    "norway_soc_age = df['sclact'][(df['cntry'] == 'NO') & (df['year'] == 7)].dropna()\n",
    "sweden_soc_age = df['sclact'][(df['cntry'] == 'SE') & (df['year'] == 7)].dropna()"
   ]
  },
  {
   "cell_type": "code",
   "execution_count": 61,
   "metadata": {},
   "outputs": [
    {
     "data": {
      "image/png": "[encoded data removed]",
      "text/plain": [
       "<Figure size 432x216 with 3 Axes>"
      ]
     },
     "metadata": {
      "needs_background": "light"
     },
     "output_type": "display_data"
    }
   ],
   "source": [
    "fig, axs = plt.subplots(1, 3, figsize=(6, 3))\n",
    "axs[0].hist(spain_soc_age)\n",
    "axs[1].hist(sweden_soc_age)\n",
    "axs[2].hist(norway_soc_age)\n",
    "\n",
    "fig.text(0.25, 1, '2014 Number of Social Meetups')\n",
    "axs[0].set_title('ES')\n",
    "axs[1].set_title('SE')\n",
    "axs[2].set_title('NO')\n",
    "fig.tight_layout()\n",
    "plt.show()"
   ]
  },
  {
   "cell_type": "code",
   "execution_count": 62,
   "metadata": {},
   "outputs": [
    {
     "ename": "AttributeError",
     "evalue": "module 'scipy.stats' has no attribute 'f_twoway'",
     "output_type": "error",
     "traceback": [
      "\u001b[0;31m---------------------------------------------------------------------------\u001b[0m",
      "\u001b[0;31mAttributeError\u001b[0m                            Traceback (most recent call last)",
      "\u001b[0;32m<ipython-input-62-635bb0038668>\u001b[0m in \u001b[0;36m<module>\u001b[0;34m\u001b[0m\n\u001b[0;32m----> 1\u001b[0;31m F, p = stats.f_twoway(\n\u001b[0m\u001b[1;32m      2\u001b[0m     \u001b[0mspain_soc_age\u001b[0m\u001b[0;34m,\u001b[0m\u001b[0;34m\u001b[0m\u001b[0;34m\u001b[0m\u001b[0m\n\u001b[1;32m      3\u001b[0m     \u001b[0msweden_soc_age\u001b[0m\u001b[0;34m,\u001b[0m\u001b[0;34m\u001b[0m\u001b[0;34m\u001b[0m\u001b[0m\n\u001b[1;32m      4\u001b[0m     norway_soc_age)\n\u001b[1;32m      5\u001b[0m \u001b[0;34m\u001b[0m\u001b[0m\n",
      "\u001b[0;31mAttributeError\u001b[0m: module 'scipy.stats' has no attribute 'f_twoway'"
     ]
    }
   ],
   "source": [
    "F, p = stats.f_twoway(\n",
    "    spain_soc_age,\n",
    "    sweden_soc_age,\n",
    "    norway_soc_age)\n",
    "\n",
    "print(\"F-stat: \",F,'\\np-value:', p)"
   ]
  },
  {
   "cell_type": "code",
   "execution_count": null,
   "metadata": {},
   "outputs": [],
   "source": []
  }
 ],
 "metadata": {
  "kernelspec": {
   "display_name": "Python 3",
   "language": "python",
   "name": "python3"
  },
  "language_info": {
   "codemirror_mode": {
    "name": "ipython",
    "version": 3
   },
   "file_extension": ".py",
   "mimetype": "text/x-python",
   "name": "python",
   "nbconvert_exporter": "python",
   "pygments_lexer": "ipython3",
   "version": "3.7.3"
  }
 },
 "nbformat": 4,
 "nbformat_minor": 2
}
