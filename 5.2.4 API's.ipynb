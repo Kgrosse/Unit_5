{
 "cells": [
  {
   "cell_type": "markdown",
   "metadata": {},
   "source": [
    "Scrape GoogleMaps API to get driving distances between two addresses"
   ]
  },
  {
   "cell_type": "code",
   "execution_count": 26,
   "metadata": {},
   "outputs": [],
   "source": [
    "import json\n",
    "import requests"
   ]
  },
  {
   "cell_type": "code",
   "execution_count": 27,
   "metadata": {},
   "outputs": [],
   "source": [
    "def get_drive_time(apiKey, origin, destination):\n",
    "\n",
    "    import requests\n",
    "    url = ('https://maps.googleapis.com/maps/api/distancematrix/json?units=imperial&origins={}&destinations={}&key={}'\n",
    "           .format(origin.replace(' ','+'),\n",
    "                   destination.replace(' ','+'),\n",
    "                   apiKey\n",
    "                  )\n",
    "          )\n",
    "    try:\n",
    "        response = requests.get(url)\n",
    "        resp_json_payload = response.json()\n",
    "        drive_time = resp_json_payload['rows'][0]['elements'][0]['duration']['value']/60\n",
    "    except:\n",
    "        print('ERROR: {}, {}'.format(origin, destination))\n",
    "        drive_time = 0\n",
    "    return drive_time\n",
    "    "
   ]
  },
  {
   "cell_type": "code",
   "execution_count": 33,
   "metadata": {},
   "outputs": [
    {
     "name": "stdout",
     "output_type": "stream",
     "text": [
      "ERROR: 1223 Race Street, Denver, CO, 535 16th Street, Denver, CO\n",
      "Origin:      1223 Race Street, Denver, CO\n",
      "Destination: 535 16th Street, Denver, CO\n",
      "Drive Time:  0.0 hr\n"
     ]
    }
   ],
   "source": [
    "# get coordinates\n",
    "apiKey = \"XXXX\"\n",
    "origin = '1223 Race Street, Denver, CO'\n",
    "destination = '535 16th Street, Denver, CO'\n",
    "drive_time = get_drive_time(apiKey, origin, destination)\n",
    "print('Origin:      {}\\nDestination: {}\\nDrive Time:  {} hr'.format(origin, destination, drive_time/60))"
   ]
  },
  {
   "cell_type": "markdown",
   "metadata": {},
   "source": [
    "The above code will yield your drive time when you input your ApiKey"
   ]
  },
  {
   "cell_type": "code",
   "execution_count": null,
   "metadata": {},
   "outputs": [],
   "source": []
  }
 ],
 "metadata": {
  "kernelspec": {
   "display_name": "Python 3",
   "language": "python",
   "name": "python3"
  },
  "language_info": {
   "codemirror_mode": {
    "name": "ipython",
    "version": 3
   },
   "file_extension": ".py",
   "mimetype": "text/x-python",
   "name": "python",
   "nbconvert_exporter": "python",
   "pygments_lexer": "ipython3",
   "version": "3.7.3"
  }
 },
 "nbformat": 4,
 "nbformat_minor": 2
}
